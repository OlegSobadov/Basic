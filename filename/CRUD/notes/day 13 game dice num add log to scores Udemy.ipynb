{
 "cells": [
  {
   "cell_type": "code",
   "execution_count": null,
   "metadata": {},
   "outputs": [],
   "source": []
  },
  {
   "cell_type": "code",
   "execution_count": 1,
   "metadata": {},
   "outputs": [],
   "source": [
    "from random import randint"
   ]
  },
  {
   "cell_type": "code",
   "execution_count": null,
   "metadata": {},
   "outputs": [],
   "source": [
    "# # Describe Problem\n",
    "def my_function():\n",
    "  for i in range(20, -1, -1):\n",
    "    print(i)\n",
    "    if i == 20:\n",
    "      print(\"You got it\")\n",
    "my_function()"
   ]
  },
  {
   "cell_type": "code",
   "execution_count": 11,
   "metadata": {},
   "outputs": [
    {
     "name": "stdout",
     "output_type": "stream",
     "text": [
      "You got it\n"
     ]
    }
   ],
   "source": [
    "# # Describe Problem\n",
    "def my_function():\n",
    "  for i in range(1, 20 + 1):\n",
    "    # print(i)\n",
    "    if i == 20:\n",
    "      print(\"You got it\")\n",
    "my_function()"
   ]
  },
  {
   "cell_type": "code",
   "execution_count": 26,
   "metadata": {},
   "outputs": [
    {
     "name": "stdout",
     "output_type": "stream",
     "text": [
      "num: 2\n"
     ]
    },
    {
     "data": {
      "text/plain": [
       "['❸', '❸', '❸', '❸', '❸', '❸', '❸', '❸', '❸', '❸', '❸', '❸', '❸', '❸', '❸']"
      ]
     },
     "execution_count": 26,
     "metadata": {},
     "output_type": "execute_result"
    }
   ],
   "source": [
    "# # Reproduce the Bug\n",
    "\n",
    "dice_imgs = [\"❶\", \"❷\", \"❸\", \"❹\", \"❺\", \"❻\"]\n",
    "dice_num = randint(1, 6)\n",
    "print(f'num: {dice_num}')\n",
    "\n",
    "def f(n=dice_num, arr=dice_imgs):\n",
    "    return arr[n]\n",
    "\n",
    "[f() for _ in range(15)]"
   ]
  },
  {
   "cell_type": "code",
   "execution_count": 43,
   "metadata": {},
   "outputs": [
    {
     "data": {
      "text/plain": [
       "['❷', '❷', '❷', '❷', '❷', '❷']"
      ]
     },
     "execution_count": 43,
     "metadata": {},
     "output_type": "execute_result"
    }
   ],
   "source": [
    "f = lambda n, arr: arr[n - 1]  # Subtract 1 to match list indices\n",
    "# list(map(lambda x: f(dice_imgs.index(x) + 1, dice_imgs), dice_imgs))\n",
    "list(map(lambda _: f(dice_num, dice_imgs), dice_imgs))"
   ]
  },
  {
   "cell_type": "code",
   "execution_count": 64,
   "metadata": {},
   "outputs": [
    {
     "name": "stdout",
     "output_type": "stream",
     "text": [
      "[4, 1, 1, 3, 4, 2]\n"
     ]
    },
    {
     "data": {
      "text/plain": [
       "['❺', '❷', '❷', '❹', '❺', '❸']"
      ]
     },
     "execution_count": 64,
     "metadata": {},
     "output_type": "execute_result"
    }
   ],
   "source": [
    "# от противного\n",
    "dice_imgs = [\"❶\", \"❷\", \"❸\", \"❹\", \"❺\", \"❻\"]\n",
    "dice_num = randint(1, 6)\n",
    "generate_dice_nums = [randint(1, 6) for _ in range(len(dice_imgs))]\n",
    "print(generate_dice_nums)\n",
    "f = lambda n, arr: arr[n]\n",
    "list(map(lambda x: f(x, dice_imgs), generate_dice_nums)) # on the x will be added by one each elem from generated list"
   ]
  },
  {
   "cell_type": "code",
   "execution_count": 67,
   "metadata": {},
   "outputs": [
    {
     "data": {
      "text/plain": [
       "['❺', '❷', '❷', '❹', '❺', '❸']"
      ]
     },
     "execution_count": 67,
     "metadata": {},
     "output_type": "execute_result"
    }
   ],
   "source": [
    "[dice_imgs[n] for n in generate_dice_nums] # [5, 4, 5, 2, 5, 5]"
   ]
  },
  {
   "cell_type": "code",
   "execution_count": 48,
   "metadata": {},
   "outputs": [
    {
     "data": {
      "text/plain": [
       "[4, 4, 6, 2, 3, 5]"
      ]
     },
     "execution_count": 48,
     "metadata": {},
     "output_type": "execute_result"
    }
   ],
   "source": [
    "[randint(1, 6) for _ in range(len(dice_imgs))]"
   ]
  },
  {
   "cell_type": "code",
   "execution_count": 8,
   "metadata": {},
   "outputs": [
    {
     "name": "stderr",
     "output_type": "stream",
     "text": [
      "Exception in Tkinter callback\n",
      "Traceback (most recent call last):\n",
      "  File \"C:\\Users\\olegs\\AppData\\Local\\Programs\\Python\\Python310\\lib\\tkinter\\__init__.py\", line 1921, in __call__\n",
      "    return self.func(*args)\n",
      "TypeError: DiceGame.roll_dice() takes 1 positional argument but 2 were given\n",
      "Exception in Tkinter callback\n",
      "Traceback (most recent call last):\n",
      "  File \"C:\\Users\\olegs\\AppData\\Local\\Programs\\Python\\Python310\\lib\\tkinter\\__init__.py\", line 1921, in __call__\n",
      "    return self.func(*args)\n",
      "TypeError: DiceGame.roll_dice() takes 1 positional argument but 2 were given\n",
      "Exception in Tkinter callback\n",
      "Traceback (most recent call last):\n",
      "  File \"C:\\Users\\olegs\\AppData\\Local\\Programs\\Python\\Python310\\lib\\tkinter\\__init__.py\", line 1921, in __call__\n",
      "    return self.func(*args)\n",
      "TypeError: DiceGame.roll_dice() takes 1 positional argument but 2 were given\n",
      "Exception in Tkinter callback\n",
      "Traceback (most recent call last):\n",
      "  File \"C:\\Users\\olegs\\AppData\\Local\\Programs\\Python\\Python310\\lib\\tkinter\\__init__.py\", line 1921, in __call__\n",
      "    return self.func(*args)\n",
      "TypeError: DiceGame.roll_dice() takes 1 positional argument but 2 were given\n"
     ]
    }
   ],
   "source": [
    "import tkinter as tk\n",
    "from random import randint\n",
    "\n",
    "class DiceGame:\n",
    "    def __init__(self, master):\n",
    "        self.master = master\n",
    "        self.master.title(\"Dice Game\")\n",
    "        self.master.geometry(\"400x400\")\n",
    "\n",
    "        \n",
    "\n",
    "        # Entry field to input player's name\n",
    "        self.name_entry = tk.Entry(self.master, font=(\"Arial\", 14))\n",
    "        self.name_entry.pack(pady=10)\n",
    "        self.name_entry.insert(0, \"Player Name\")\n",
    "\n",
    "        # Button to roll the dice\n",
    "        self.roll_button = tk.Button(self.master, text=\"Roll Dice\", font=(\"Arial\", 16), command=self.roll_dice)\n",
    "        self.roll_button.pack(pady=20)\n",
    "\n",
    "        # Label to display dice face\n",
    "        self.label = tk.Label(self.master, font=(\"Arial\", 100), text=\"\")\n",
    "        self.label.pack(pady=50)\n",
    "\n",
    "        # Bind keyboard event to roll_dice method\n",
    "        # self.master.bind(\"<Return>\", self.roll_dice)\n",
    "\n",
    "    def roll_dice(self):\n",
    "        dice_num = randint(1, 6)\n",
    "        dice_image = [\"❶\", \"❷\", \"❸\", \"❹\", \"❺\", \"❻\"][dice_num - 1]\n",
    "        self.label.config(text=dice_image)\n",
    "\n",
    "if __name__ == \"__main__\":\n",
    "    root = tk.Tk()\n",
    "    app = DiceGame(root)\n",
    "    root.mainloop()\n"
   ]
  },
  {
   "cell_type": "code",
   "execution_count": 7,
   "metadata": {},
   "outputs": [],
   "source": [
    "import tkinter as tk\n",
    "from random import randint\n",
    "from datetime import datetime\n",
    "\n",
    "class DiceGame:\n",
    "    def __init__(self, master):\n",
    "        self.master = master\n",
    "        self.master.title(\"Dice Game\")\n",
    "        self.master.geometry(\"400x500\")\n",
    "\n",
    "        self.name_label = tk.Label(self.master, text=\"Enter Your Name:\", font=(\"Arial\", 14))\n",
    "        self.name_label.pack(pady=10)\n",
    "\n",
    "        self.name_entry = tk.Entry(self.master, font=(\"Arial\", 14))\n",
    "        self.name_entry.pack(pady=10)\n",
    "\n",
    "        self.roll_button = tk.Button(self.master, text=\"Roll Dice\", font=(\"Arial\", 16), command=self.roll_dice)\n",
    "        self.roll_button.pack(pady=20)\n",
    "\n",
    "        self.show_scores_button = tk.Button(self.master, text=\"Show Scores\", font=(\"Arial\", 16), command=self.show_scores)\n",
    "        self.show_scores_button.pack(pady=20)\n",
    "\n",
    "        self.label = tk.Label(self.master, font=(\"Arial\", 100), text=\"\")\n",
    "        self.label.pack(pady=50)\n",
    "        \n",
    "        self.click_count = 0\n",
    "        self.scores = {}  # Dictionary to store username as key and last score as value\n",
    "        self.accumulated_score = 0\n",
    "        self.log_file = open(\"log.txt\", \"a\")\n",
    "        self.game_over = False\n",
    "        self.log_entry = None\n",
    "\n",
    "    def roll_dice(self):\n",
    "        if self.click_count >= 5:\n",
    "            self.game_over = True\n",
    "\n",
    "        if not self.game_over:\n",
    "            player_name = self.name_entry.get() if self.name_entry.get() else \"Anonymous\"\n",
    "            dice_num = randint(1, 6)\n",
    "            self.accumulated_score += dice_num\n",
    "            self.scores[player_name] = self.accumulated_score  # Store only the last score for each username\n",
    "\n",
    "            self.log_entry = f\"Date: {datetime.now().strftime('%Y/%m/%d')}, Name: {player_name}, Score: {self.accumulated_score}\\n\"\n",
    "\n",
    "            dice_image = [\"❶\", \"❷\", \"❸\", \"❹\", \"❺\", \"❻\"][dice_num - 1]\n",
    "            self.label.config(text=dice_image)\n",
    "\n",
    "            self.click_count += 1\n",
    "        else:\n",
    "            self.log_file.write(self.log_entry) # save to file\n",
    "            self.roll_button.config(state=tk.DISABLED)\n",
    "            self.label.config(text='Game Over', font=(\"Arial\", 16))\n",
    "\n",
    "\n",
    "    def show_scores(self):\n",
    "        scores_window = tk.Toplevel(self.master)\n",
    "        scores_window.title(\"Player Scores\")\n",
    "        scores_text = \"\\n\".join([f\"Name: {name}, Score: {score}\" for name, score in self.scores.items()])\n",
    "        scores_label = tk.Label(scores_window, text=scores_text, font=(\"Arial\", 14))\n",
    "        scores_label.pack(padx=20, pady=20)\n",
    "\n",
    "    def close_log_file(self):\n",
    "        self.log_file.close()\n",
    "\n",
    "if __name__ == \"__main__\":\n",
    "    root = tk.Tk()\n",
    "    app = DiceGame(root)\n",
    "    root.mainloop()\n",
    "    app.close_log_file()\n"
   ]
  },
  {
   "cell_type": "code",
   "execution_count": null,
   "metadata": {},
   "outputs": [],
   "source": [
    "# TODO: add validation to entry field, to len of it;\n",
    "\n",
    "# styles, color"
   ]
  },
  {
   "cell_type": "code",
   "execution_count": 8,
   "metadata": {},
   "outputs": [
    {
     "name": "stderr",
     "output_type": "stream",
     "text": [
      "Exception in Tkinter callback\n",
      "Traceback (most recent call last):\n",
      "  File \"C:\\Users\\olegs\\AppData\\Local\\Programs\\Python\\Python310\\lib\\tkinter\\__init__.py\", line 1921, in __call__\n",
      "    return self.func(*args)\n",
      "  File \"C:\\Users\\olegs\\AppData\\Local\\Temp\\ipykernel_10084\\1937527665.py\", line 67, in show_scores\n",
      "    tk.messagebox.showinfo(\"Total Score\", f\"Total Score for {username}: {total_score}\")\n",
      "AttributeError: module 'tkinter' has no attribute 'messagebox'\n"
     ]
    }
   ],
   "source": [
    "import tkinter as tk\n",
    "from random import randint\n",
    "from datetime import datetime\n",
    "\n",
    "class DiceGame():\n",
    "    def __init__(self, master):\n",
    "        super().__init__()\n",
    "        self.master = master\n",
    "        self.master.title(\"Dice Game\")\n",
    "        self.master.geometry(\"400x400\")\n",
    "\n",
    "        # Define pastel color codes\n",
    "        self.pastel_blue = \"#add8e6\"\n",
    "        self.pastel_pink = \"#ffb6c1\"\n",
    "        self.pastel_green = \"#98fb98\"\n",
    "\n",
    "        self.dice_imgs = [\"❶\", \"❷\", \"❸\", \"❹\", \"❺\", \"❻\"]\n",
    "\n",
    "        # Create and style label\n",
    "        self.label = tk.Label(master, font=(\"Arial\", 100), text=\"\", bg=self.pastel_blue)\n",
    "        self.label.pack(pady=50)\n",
    "\n",
    "        # Create and style roll button\n",
    "        self.roll_button = tk.Button(master, text=\"Roll Dice\", command=self.roll_dice, bg=self.pastel_green)\n",
    "        self.roll_button.pack(pady=20)\n",
    "\n",
    "        # Create and style show scores button\n",
    "        self.show_scores_button = tk.Button(master, text=\"Show Scores\", command=self.show_scores, bg=self.pastel_pink)\n",
    "        self.show_scores_button.pack(pady=20)\n",
    "\n",
    "        # Entry for player name\n",
    "        self.name_entry = tk.Entry(master, font=(\"Arial\", 14), bg=self.pastel_pink)\n",
    "        self.name_entry.pack(pady=20)\n",
    "\n",
    "        # Counter for button clicks\n",
    "        self.click_count = 0\n",
    "\n",
    "        # Log file\n",
    "        self.log_file = open(\"log.txt\", \"a\")\n",
    "\n",
    "    def roll_dice(self):\n",
    "        dice_num = randint(1, 6)\n",
    "        dice_image = self.dice_imgs[dice_num - 1]\n",
    "        self.label.config(text=dice_image)\n",
    "\n",
    "        # Log dice roll and username to log.txt\n",
    "        username = self.name_entry.get()\n",
    "        self.log_file.write(f\"Date: {datetime.now().strftime('%Y-%m-%d %H:%M:%S')}, Username: {username}, Dice Roll: {dice_num}\\n\")\n",
    "\n",
    "        # Count button clicks\n",
    "        self.click_count += 1\n",
    "\n",
    "        # Stop the game after 5 button clicks\n",
    "        if self.click_count >= 5:\n",
    "            self.roll_button.config(state=tk.DISABLED)\n",
    "\n",
    "    def show_scores(self):\n",
    "        # Read and display accumulated score from log.txt\n",
    "        username = self.name_entry.get()\n",
    "        total_score = 0\n",
    "        with open(\"log.txt\", \"r\") as log_file:\n",
    "            for line in log_file:\n",
    "                if f\"Username: {username}\" in line:\n",
    "                    total_score += int(line.split(\"Dice Roll: \")[1])\n",
    "\n",
    "        # Display total score in a messagebox\n",
    "        tk.messagebox.showinfo(\"Total Score\", f\"Total Score for {username}: {total_score}\")\n",
    "\n",
    "    def run(self):\n",
    "        self.master.mainloop()\n",
    "\n",
    "if __name__ == \"__main__\":\n",
    "    root = tk.Tk()\n",
    "    app = DiceGame(master=root)\n",
    "    app.run()\n"
   ]
  },
  {
   "cell_type": "code",
   "execution_count": 37,
   "metadata": {},
   "outputs": [],
   "source": [
    "import tkinter as tk\n",
    "from random import randint\n",
    "from datetime import datetime\n",
    "\n",
    "class DiceGame:\n",
    "    def __init__(self, master):\n",
    "        self.master = master\n",
    "        self.master.title(\"Dice Game\")\n",
    "        self.master.geometry(\"400x550\")\n",
    "\n",
    "        # Define pastel color codes\n",
    "        self.pastel_blue = \"#add8e6\"\n",
    "        self.pastel_pink = \"#ffb6c1\"\n",
    "        self.pastel_green = \"#98fb98\"\n",
    "\n",
    "        self.label = tk.Label(self.master, font=(\"Arial\", 100), text=\"🎁\", bg=self.pastel_blue)\n",
    "        self.label.pack(pady=50)\n",
    "\n",
    "\n",
    "        self.name_label = tk.Label(self.master, text=\"Enter Your Name:\", font=(\"Arial\", 14))\n",
    "        self.name_label.pack(pady=5)\n",
    "\n",
    "        self.name_entry = tk.Entry(self.master, font=(\"Arial\", 14), bg=self.pastel_pink)\n",
    "        self.name_entry.pack(pady=20)\n",
    "\n",
    "        self.roll_button = tk.Button(self.master, text=\"Roll Dice\", font=(\"Arial\", 16), command=self.roll_dice, bg=self.pastel_green)\n",
    "        self.roll_button.pack(pady=20)\n",
    "\n",
    "        self.show_scores_button = tk.Button(self.master, text=\"Show Scores\", font=(\"Arial\", 16), command=self.show_scores, bg=self.pastel_pink)\n",
    "        self.show_scores_button.pack(pady=20)\n",
    "\n",
    "\n",
    "        \n",
    "        self.click_count = 0\n",
    "        self.scores = {}  # Dictionary to store username as key and last score as value\n",
    "        self.accumulated_score = 0\n",
    "        self.log_file = open(\"log.txt\", \"a\")\n",
    "        self.game_over = False\n",
    "        self.log_entry = None\n",
    "        self.player_name = None\n",
    "\n",
    "    def roll_dice(self):\n",
    "        if self.click_count >= 5:\n",
    "            self.game_over = True\n",
    "\n",
    "        if not self.game_over:\n",
    "            self.player_name = self.name_entry.get() if self.name_entry.get() else \"Anonymous\"\n",
    "            dice_num = randint(1, 6)\n",
    "            self.accumulated_score += dice_num\n",
    "            self.scores[self.player_name] = self.accumulated_score  # Store only the last score for each username\n",
    "\n",
    "            # self.log_entry = f\"Date: {datetime.now().strftime('%Y/%m/%d')}, Name: {self.player_name}, Score: {self.accumulated_score}\\n\"\n",
    "\n",
    "            dice_image = [\"❶\", \"❷\", \"❸\", \"❹\", \"❺\", \"❻\"][dice_num - 1]\n",
    "            self.label.config(text=dice_image)\n",
    "\n",
    "            self.click_count += 1\n",
    "        else:\n",
    "            # if not username in log.txt:\n",
    "                # self.log_file.write(self.log_entry) # save to file\n",
    "            self.update_score_in_log(username=self.player_name, score=self.accumulated_score)\n",
    "            self.roll_button.config(state=tk.DISABLED)\n",
    "            self.label.config(text='Game Over', font=(\"Arial\", 16))\n",
    "\n",
    "\n",
    "    # def update_score_in_log(self, username, score):\n",
    "    def update_score_in_log(self, username, score):\n",
    "        # Read existing scores from log.txt\n",
    "        with open(\"log.txt\", \"r\") as file:\n",
    "            lines = file.readlines()\n",
    "\n",
    "        updated = False\n",
    "\n",
    "        # Update score if user exists, otherwise add a new entry\n",
    "        for i, line in enumerate(lines):\n",
    "            if f\"Name: {username}\" in line:\n",
    "                existing_score = int(line.split(\"Score: \")[1])\n",
    "                if score > existing_score:\n",
    "                    lines[i] = f\"Date: {datetime.now().strftime('%Y/%m/%d')}, Name: {username}, Score: {score}\\n\"\n",
    "                    updated = True\n",
    "                break\n",
    "            \n",
    "\n",
    "\n",
    "        # If the user is not found in the log, add a new entry\n",
    "        if not updated:\n",
    "            lines.append(f\"Date: {datetime.now().strftime('%Y/%m/%d')}, Name: {username}, Score: {score}\\n\")\n",
    "\n",
    "        # Write the updated log back to log.txt\n",
    "        with open(\"log.txt\", \"w\") as file:\n",
    "            file.writelines(lines)\n",
    "\n",
    "    def show_scores(self):\n",
    "        scores_window = tk.Toplevel(self.master)\n",
    "        scores_window.title(\"Player Scores\")\n",
    "        scores_text = \"\\n\".join([f\"Name: {name}, Score: {score}\" for name, score in self.scores.items()])\n",
    "        scores_label = tk.Label(scores_window, text=scores_text, font=(\"Arial\", 14))\n",
    "        scores_label.pack(padx=20, pady=20)\n",
    "\n",
    "    def close_log_file(self):\n",
    "        self.log_file.close()\n",
    "\n",
    "if __name__ == \"__main__\":\n",
    "    root = tk.Tk()\n",
    "    app = DiceGame(root)\n",
    "    root.mainloop()\n",
    "    app.close_log_file()\n"
   ]
  },
  {
   "cell_type": "code",
   "execution_count": null,
   "metadata": {},
   "outputs": [],
   "source": [
    "# TODO: username rewrite score in the txt file\n",
    "# n show top 5 with max score"
   ]
  },
  {
   "cell_type": "code",
   "execution_count": null,
   "metadata": {},
   "outputs": [],
   "source": [
    "username = 'wrfsef'\n",
    "with open(\"log.txt\", \"rw\") as log_file:\n",
    "    for line in log_file:\n",
    "        if f\"Username: {username}\" in line:\n"
   ]
  },
  {
   "cell_type": "code",
   "execution_count": 26,
   "metadata": {},
   "outputs": [],
   "source": [
    "\n",
    "def update_score_in_log(username, score):\n",
    "    # Read existing scores from log.txt\n",
    "    with open(\"log.txt\", \"r\") as file:\n",
    "        lines = file.readlines()\n",
    "\n",
    "    updated = False\n",
    "\n",
    "    # Update score if user exists, otherwise add a new entry\n",
    "    for i, line in enumerate(lines):\n",
    "        if f\"Name: {username}\" in line:\n",
    "            existing_score = int(line.split(\"Score: \")[1])\n",
    "            if score > existing_score:\n",
    "                lines[i] = f\"Date: {datetime.now().strftime('%Y/%m/%d')}, Name: {username}, Score: {score}\\n\"\n",
    "                updated = True\n",
    "            break\n",
    "\n",
    "    # If the user is not found in the log, add a new entry\n",
    "    if not updated:\n",
    "        lines.append(f\"Date: {datetime.now().strftime('%Y/%m/%d')}, Name: {username}, Score: {score}\\n\")\n",
    "\n",
    "    # Write the updated log back to log.txt\n",
    "    with open(\"log.txt\", \"w\") as file:\n",
    "        file.writelines(lines)\n",
    "\n",
    "# Usage example:\n",
    "update_score_in_log(\"1fdsafsd\", 13)\n"
   ]
  },
  {
   "cell_type": "code",
   "execution_count": null,
   "metadata": {},
   "outputs": [],
   "source": [
    "# or in the updated проверяю или пишу отдельный checker is_name sure отдельный\n",
    "\n"
   ]
  },
  {
   "cell_type": "code",
   "execution_count": 31,
   "metadata": {},
   "outputs": [
    {
     "ename": "IndexError",
     "evalue": "list assignment index out of range",
     "output_type": "error",
     "traceback": [
      "\u001b[1;31m---------------------------------------------------------------------------\u001b[0m",
      "\u001b[1;31mIndexError\u001b[0m                                Traceback (most recent call last)",
      "\u001b[1;32mc:\\Users\\olegs\\Downloads\\programming\\basic\\Udemy\\basic\\day 13 game dice num add log to scores.ipynb Cell 19\u001b[0m line \u001b[0;36m1\n\u001b[0;32m      <a href='vscode-notebook-cell:/c%3A/Users/olegs/Downloads/programming/basic/Udemy/basic/day%2013%20game%20dice%20num%20add%20log%20to%20scores.ipynb#X31sZmlsZQ%3D%3D?line=8'>9</a>\u001b[0m \u001b[39mfor\u001b[39;00m i, line \u001b[39min\u001b[39;00m \u001b[39menumerate\u001b[39m(lines):\n\u001b[0;32m     <a href='vscode-notebook-cell:/c%3A/Users/olegs/Downloads/programming/basic/Udemy/basic/day%2013%20game%20dice%20num%20add%20log%20to%20scores.ipynb#X31sZmlsZQ%3D%3D?line=9'>10</a>\u001b[0m     \u001b[39mif\u001b[39;00m \u001b[39mf\u001b[39m\u001b[39m\"\u001b[39m\u001b[39mName: \u001b[39m\u001b[39m{\u001b[39;00musername\u001b[39m}\u001b[39;00m\u001b[39m\"\u001b[39m \u001b[39mnot\u001b[39;00m \u001b[39min\u001b[39;00m line:\n\u001b[1;32m---> <a href='vscode-notebook-cell:/c%3A/Users/olegs/Downloads/programming/basic/Udemy/basic/day%2013%20game%20dice%20num%20add%20log%20to%20scores.ipynb#X31sZmlsZQ%3D%3D?line=10'>11</a>\u001b[0m        lines[\u001b[39mlen\u001b[39;49m(lines)] \u001b[39m=\u001b[39m \u001b[39mf\u001b[39m\u001b[39m\"\u001b[39m\u001b[39mDate: \u001b[39m\u001b[39m{\u001b[39;00mdatetime\u001b[39m.\u001b[39mnow()\u001b[39m.\u001b[39mstrftime(\u001b[39m'\u001b[39m\u001b[39m%\u001b[39m\u001b[39mY/\u001b[39m\u001b[39m%\u001b[39m\u001b[39mm/\u001b[39m\u001b[39m%d\u001b[39;00m\u001b[39m'\u001b[39m)\u001b[39m}\u001b[39;00m\u001b[39m, Name: \u001b[39m\u001b[39m{\u001b[39;00musername\u001b[39m}\u001b[39;00m\u001b[39m, Score: \u001b[39m\u001b[39m{\u001b[39;00mscore\u001b[39m}\u001b[39;00m\u001b[39m\\n\u001b[39;00m\u001b[39m\"\u001b[39m\n\u001b[0;32m     <a href='vscode-notebook-cell:/c%3A/Users/olegs/Downloads/programming/basic/Udemy/basic/day%2013%20game%20dice%20num%20add%20log%20to%20scores.ipynb#X31sZmlsZQ%3D%3D?line=11'>12</a>\u001b[0m        updated \u001b[39m=\u001b[39m \u001b[39mTrue\u001b[39;00m\n\u001b[0;32m     <a href='vscode-notebook-cell:/c%3A/Users/olegs/Downloads/programming/basic/Udemy/basic/day%2013%20game%20dice%20num%20add%20log%20to%20scores.ipynb#X31sZmlsZQ%3D%3D?line=12'>13</a>\u001b[0m        \u001b[39mbreak\u001b[39;00m\n",
      "\u001b[1;31mIndexError\u001b[0m: list assignment index out of range"
     ]
    }
   ],
   "source": [
    "username = '235634df'\n",
    "score = 13\n",
    "with open(\"log.txt\", \"r\") as file:\n",
    "    lines = file.readlines()\n",
    "\n",
    "updated = False\n",
    "\n",
    "# Update score if user exists, otherwise add a new entry\n",
    "for i, line in enumerate(lines):\n",
    "    if f\"Name: {username}\" not in line:\n",
    "       lines[len(lines)] = f\"Date: {datetime.now().strftime('%Y/%m/%d')}, Name: {username}, Score: {score}\\n\"\n",
    "       updated = True\n",
    "       break\n",
    "\n",
    "# If the user is not found in the log, add a new entry\n",
    "if not updated:\n",
    "    lines.append(f\"Date: {datetime.now().strftime('%Y/%m/%d')}, Name: {username}, Score: {score}\\n\")\n",
    "\n",
    " # Write the updated log back to log.txt\n",
    "with open(\"log.txt\", \"w\") as file:\n",
    "    file.writelines()\n",
    "    file.writelines(lines)"
   ]
  },
  {
   "cell_type": "code",
   "execution_count": null,
   "metadata": {},
   "outputs": [],
   "source": [
    "# in the gui все равно добавляет\n"
   ]
  },
  {
   "cell_type": "markdown",
   "metadata": {},
   "source": [
    "## Filename - update, add \n",
    "> new row"
   ]
  },
  {
   "cell_type": "code",
   "execution_count": 64,
   "metadata": {},
   "outputs": [],
   "source": [
    "from datetime import datetime\n",
    "\n",
    "def update_score_in_log(username, score):\n",
    "    # Read existing scores from log.txt\n",
    "    with open(\"log.txt\", \"r\") as file:\n",
    "        lines = file.readlines()\n",
    "\n",
    "    updated = False\n",
    "    lines_to_save = {}\n",
    "    # Update score if user exists and new score is higher, otherwise keep the existing entry\n",
    "    for i, line in enumerate(lines):\n",
    "        line_username = line.split(\", \")[1].split(\": \")[1]\n",
    "        if line_username == username:\n",
    "            existing_score = int(line.split(\"Score: \")[1].strip())\n",
    "            if score > existing_score:\n",
    "                # lines[i] = f\"Date: {datetime.now().strftime('%Y/%m/%d')}, Name: {username}, Score: {score}\\n\"\n",
    "                # print(i, lines[i])\n",
    "                # lines_to_save[lines[i]] = f\"Date: {datetime.now().strftime('%Y/%m/%d')}, Name: {username}, Score: {score}\\n\"\n",
    "                updated = True\n",
    "            break\n",
    "    lines[-1] = 'update values1\\n' # cc by index\n",
    "    lines.append('add new values 1 more row\\n')\n",
    "    # If the user is not found in the log, add a new entry\n",
    "    # if not updated:\n",
    "    #     lines.append(f\"Date: {datetime.now().strftime('%Y/%m/%d')}, Name: {username}, Score: {score}\\n\")\n",
    "\n",
    "    # Write the updated log back to log.txt\n",
    "    with open(\"log.txt\", \"w\") as file:\n",
    "        file.writelines(lines)\n",
    "\n",
    "# Usage example:\n",
    "update_score_in_log(\"sdfsdf\", 125)\n"
   ]
  },
  {
   "cell_type": "code",
   "execution_count": 59,
   "metadata": {},
   "outputs": [
    {
     "name": "stdout",
     "output_type": "stream",
     "text": [
      "['Name: Oleg, Score: 11\\n', 'Name: Oleg, Score: 17\\n', 'Date: 20235210/07/23,Name: sdfsdf, Score: 17\\n', 'Date: 20235510/07/23,Name: gdsgds, Score: 10\\n', 'Date: 20235510/07/23,Name: 4fsdf, Score: 16\\n', 'Date: 20235610/07/23,Name: 45erhgfg, Score: 16\\n', 'Updated Line 7\\n', 'Date: 2023-57-10/07/23,Name: 1rfsf32, Score: 19\\n', 'Date: 23/58/10/07/23,Name: 32gfsdf, Score: 24\\n', 'Date: 2023/10/07,Name: 32fsfsdf, Score: 17\\n', 'Date: 2023/10/07, Name: Oleg, Score: 19\\n', 'Date: 2023/10/07, Name: shgdg, Score: 10\\n', 'Date: 2023/10/07, Name: 3h5aesr, Score: 18\\n', 'Date: 2023-10-07 02:03:05, Username: , Dice Roll: 2\\n', 'Date: 2023-10-07 02:03:06, Username: , Dice Roll: 6\\n', 'Date: 2023-10-07 02:03:06, Username: , Dice Roll: 3\\n', 'Date: 2023-10-07 02:03:07, Username: , Dice Roll: 5\\n', 'Date: 2023-10-07 02:03:07, Username: , Dice Roll: 4\\n', 'Date: 2023/10/07, Name: sdfsdf, Score: 24\\n', 'Date: 2023/10/07, Name: sdfsdf, Score: 22\\n', 'Date: 2023/10/07, Name: sdfsdfs, Score: 20\\n', 'Date: 2023/10/07, Name: sdfsdf, Score: 21\\n', 'Date: 2023/10/07, Name: sdfsdfsdf, Score: 14\\n', 'Date: 2023/10/07, Name: sdfsdf, Score: 21\\n', 'Date: 2023/10/07, Name: sdfsdf, Score: 20\\n', 'Date: 2023/10/07, Name: wrfsef, Score: 21\\n', 'Date: 2023/10/07, Name: 235634df, Score: 13\\n', '\\n']\n"
     ]
    }
   ],
   "source": [
    "import random\n",
    "\n",
    "# Generate a random index to update\n",
    "random_index = random.randint(0, len(lines) - 1)\n",
    "\n",
    "# Update the random line with a new value\n",
    "lines[random_index] = f\"Updated Line {random_index + 1}\\n\"\n",
    "print(lines) # its all lines "
   ]
  },
  {
   "cell_type": "code",
   "execution_count": null,
   "metadata": {},
   "outputs": [],
   "source": [
    "import re\n",
    "\n",
    "\n",
    "with open('log.txt', 'r') as file:\n",
    "    lines = file.readlines()\n",
    "for idx, line in enumerate(lines):\n",
    "    print(line)\n",
    "    # if re.findall(r'/s+/+/d+', lines[idx]):\n",
    "    #     print(lines[idx])\n",
    "\n",
    "    # if 'Date:' in line.find('Date:') and 'Scope:' in line.find('Scope:'):"
   ]
  },
  {
   "cell_type": "code",
   "execution_count": 54,
   "metadata": {},
   "outputs": [
    {
     "name": "stdout",
     "output_type": "stream",
     "text": [
      "['Date:', '5210/', 'Name:', 'sdfsd', 'Score']\n"
     ]
    },
    {
     "data": {
      "text/plain": [
       "[('sdfsd', 's'), ('Score', 'r')]"
      ]
     },
     "execution_count": 54,
     "metadata": {},
     "output_type": "execute_result"
    }
   ],
   "source": [
    "word = 'Date: 20235210/07/23,Name: sdfsdf, Score: 17'\n",
    "pattern = r'((\\w){4}\\D)'\n",
    "res = [n[0] for n in re.findall(pattern, word)]\n",
    "print(res)\n",
    "list(map(lambda n: n[0], re.findall(pattern, word)))\n",
    "[*filter(lambda n: n[0].isalpha(), re.findall(pattern, word))] # compare"
   ]
  },
  {
   "cell_type": "code",
   "execution_count": 69,
   "metadata": {},
   "outputs": [
    {
     "data": {
      "text/plain": [
       "['Date:', None, None, None, 'Score']"
      ]
     },
     "execution_count": 69,
     "metadata": {},
     "output_type": "execute_result"
    }
   ],
   "source": [
    "mask_idx = list(map(lambda n: n.find('Date:') and n.find('Score'), res))\n",
    "mask_idx = [True if n != -1 else False for n in mask_idx]\n",
    "[res[idx] if n else None for idx, n in enumerate(mask_idx)]"
   ]
  },
  {
   "cell_type": "code",
   "execution_count": 200,
   "metadata": {},
   "outputs": [
    {
     "data": {
      "text/plain": [
       "['Name: Oleg, Score: 11\\n',\n",
       " 'Name: Oleg, Score: 17\\n',\n",
       " 'Date: 20235210/07/23,Name: sdfsdf, Score: 17\\n',\n",
       " 'Date: 20235510/07/23,Name: gdsgds, Score: 10\\n',\n",
       " 'Date: 20235510/07/23,Name: 4fsdf, Score: 16\\n',\n",
       " 'Date: 20235610/07/23,Name: 45erhgfg, Score: 16\\n',\n",
       " 'Date: 20235610/07/23,Name: 1fdsafsd, Score: 23\\n',\n",
       " 'Date: 2023-57-10/07/23,Name: 1rfsf32, Score: 19\\n',\n",
       " 'Date: 23/58/10/07/23,Name: 32gfsdf, Score: 24\\n',\n",
       " 'Date: 2023/10/07,Name: 32fsfsdf, Score: 17\\n',\n",
       " 'Date: 2023/10/07, Name: Oleg, Score: 19\\n',\n",
       " 'Date: 2023/10/07, Name: shgdg, Score: 10\\n',\n",
       " 'Date: 2023/10/07, Name: 3h5aesr, Score: 18\\n',\n",
       " 'Date: 2023-10-07 02:03:05, Username: , Dice Roll: 2\\n',\n",
       " 'Date: 2023-10-07 02:03:06, Username: , Dice Roll: 6\\n',\n",
       " 'Date: 2023-10-07 02:03:06, Username: , Dice Roll: 3\\n',\n",
       " 'Date: 2023-10-07 02:03:07, Username: , Dice Roll: 5\\n',\n",
       " 'Date: 2023-10-07 02:03:07, Username: , Dice Roll: 4\\n',\n",
       " 'Date: 2023/10/07, Name: sdfsdf, Score: 24\\n',\n",
       " 'Date: 2023/10/07, Name: sdfsdf, Score: 22\\n',\n",
       " 'Date: 2023/10/07, Name: sdfsdfs, Score: 20\\n',\n",
       " 'Date: 2023/10/07, Name: sdfsdf, Score: 21\\n',\n",
       " 'Date: 2023/10/07, Name: sdfsdfsdf, Score: 14\\n',\n",
       " 'Date: 2023/10/07, Name: sdfsdf, Score: 21\\n',\n",
       " 'Date: 2023/10/07, Name: sdfsdf, Score: 20\\n',\n",
       " 'update values1\\n',\n",
       " 'add new values 1 more row\\n']"
      ]
     },
     "execution_count": 200,
     "metadata": {},
     "output_type": "execute_result"
    }
   ],
   "source": [
    "def backUp_log():\n",
    "    \"\"\"Backup log.txt file n from it return data by lines\"\"\"\n",
    "    with open('log.txt', 'r') as file:\n",
    "        lines = file.readlines()\n",
    "\n",
    "    with open('temp.txt', 'w') as file:\n",
    "        file.writelines(lines)\n",
    "\n",
    "    with open('temp.txt', 'r') as file:\n",
    "        lines = file.readlines()\n",
    "    \n",
    "    return lines\n",
    "\n",
    "lines = backUp_log()\n",
    "lines\n",
    "\n"
   ]
  },
  {
   "cell_type": "code",
   "execution_count": 202,
   "metadata": {},
   "outputs": [],
   "source": [
    "def entry_log(line, score):\n",
    "    # return 'Date: ' + line.split('Date:')[0] + 'Name: ' + username + 'Score: ' + score # ver.1 \n",
    "    return ', '.join(line.split(\", \")[:-1] + [f'Score: {score}']) + '\\n'\n",
    "\n",
    "def save(lines):\n",
    "    with open('temp.txt', 'w') as file:\n",
    "        file.writelines(lines)"
   ]
  },
  {
   "cell_type": "code",
   "execution_count": 143,
   "metadata": {},
   "outputs": [
    {
     "name": "stdout",
     "output_type": "stream",
     "text": [
      "sdfsdf\n",
      "19 Date: 2023/10/07, Name: sdfsdf, Score: 22\n",
      "\n"
     ]
    }
   ],
   "source": [
    "username = 'sdfsdf'\n",
    "size = int(len(username))\n",
    "score = 24\n",
    "for idx, line in enumerate(lines):\n",
    "    # pattern = r'\\w\\D\\S{3}'\n",
    "    # res = re.findall(pattern, ''.join(line.split('')))\n",
    "    try:\n",
    "        cur_username = line.split(\", \")[1].split(\": \")[1]\n",
    "    except Exception:\n",
    "        continue\n",
    "    if (username == cur_username) and (score > int(line.split('Score:')[1])): # but len of username not same\n",
    "        print(cur_username, end='\\n')\n",
    "        ...\n",
    "        print(idx, line)\n",
    "        # lines[idx] = 'Date: ' + line.split('Date:')[0] + 'Name: ' + username + 'Score: ' + score\n",
    "        lines[idx] = entry_log(line, username, score)\n",
    "        break\n",
    "\n",
    "# save(lines)"
   ]
  },
  {
   "cell_type": "code",
   "execution_count": 182,
   "metadata": {},
   "outputs": [
    {
     "name": "stdout",
     "output_type": "stream",
     "text": [
      "sdfsdf\n",
      "19 Date: 2023/10/07, Name: sdfsdf, Score: 22\n",
      "\n",
      "cur score:   22\n",
      "\n",
      "Date: 2023/10/07, Name: sdfsdf, Score: 24\n"
     ]
    }
   ],
   "source": [
    "username = 'sdfsdf'\n",
    "size = int(len(username))\n",
    "score = 24\n",
    "for idx, line in enumerate(lines):\n",
    "    # pattern = r'\\w\\D\\S{3}'\n",
    "    # res = re.findall(pattern, ''.join(line.split('')))\n",
    "    try:\n",
    "        cur_username = line.split(\", \")[1].split(\": \")[1]\n",
    "    except Exception:\n",
    "        cur_username = 'not found username'\n",
    "    try:\n",
    "        cur_score = line.split('Score:')[-1]\n",
    "    except Exception:\n",
    "        cur_score = 'not found score'\n",
    "    if (username == cur_username) and (score > int(line.split('Score:')[1])): # but len of username not same\n",
    "        # lines[idx] = line.split('Score:')[:-1] + [f'Score: {score}\\n']\n",
    "        lines[idx] = ', '.join(line.split(\", \")[:-1] + [f'Score: {score}'])\n",
    "        print(cur_username, end='\\n') # prev\n",
    "        print(idx, line) # cur\n",
    "        print('cur score: ', cur_score)\n",
    "        print(lines[idx]) # whats will be updated to this values; next\n",
    "        break\n",
    "\n",
    "# save(lines) # if save will be dublicated of line -> line line"
   ]
  },
  {
   "cell_type": "markdown",
   "metadata": {},
   "source": [
    "# Filename - CRUD\n",
    "> update by filter"
   ]
  },
  {
   "cell_type": "markdown",
   "metadata": {},
   "source": [
    "# Working"
   ]
  },
  {
   "cell_type": "code",
   "execution_count": 11,
   "metadata": {},
   "outputs": [
    {
     "name": "stdout",
     "output_type": "stream",
     "text": [
      "3h5aesr\n",
      "13 Date: 2023/10/07, Name: 3h5aesr, Score: 25\n",
      "\n",
      "cur score:   25\n",
      "\n",
      "Date: 2023/10/07, Name: 3h5aesr, Score: 251\n",
      "\n"
     ]
    }
   ],
   "source": [
    "def backUp_log():\n",
    "    \"\"\"Backup log.txt file n from it return data by lines\"\"\"\n",
    "    with open('log.txt', 'r') as file:\n",
    "        lines = file.readlines()\n",
    "\n",
    "    with open('temp.txt', 'w') as file:\n",
    "        file.writelines(lines)\n",
    "\n",
    "    with open('temp.txt', 'r') as file:\n",
    "        lines = file.readlines()\n",
    "    \n",
    "    return lines\n",
    "\n",
    "def open_log():\n",
    "    with open('temp.txt', 'r') as file:\n",
    "        lines = file.readlines()\n",
    "    \n",
    "    return lines\n",
    "\n",
    "\n",
    "# lines = backUp_log()\n",
    "lines = open_log()\n",
    "\n",
    "def entry_log(line, score):\n",
    "    # return 'Date: ' + line.split('Date:')[0] + 'Name: ' + username + 'Score: ' + score # ver.1 \n",
    "    return ', '.join(line.split(\", \")[:-1] + [f'Score: {score}']) + '\\n'\n",
    "\n",
    "def save_log(lines):\n",
    "    with open('temp.txt', 'w') as file:\n",
    "        file.writelines(lines)\n",
    "\n",
    "username = '3h5aesr'\n",
    "size = int(len(username))\n",
    "score = 251\n",
    "for idx, line in enumerate(lines):\n",
    "    # pattern = r'\\w\\D\\S{3}'\n",
    "    # res = re.findall(pattern, ''.join(line.split('')))\n",
    "    try:\n",
    "        cur_username = line.split(\", \")[1].split(\": \")[1]\n",
    "    except Exception:\n",
    "        cur_username = 'not found username'\n",
    "    try:\n",
    "        cur_score = line.split('Score:')[-1]\n",
    "    except Exception:\n",
    "        cur_score = 'not found score'\n",
    "    if (username == cur_username) and (score > int(line.split('Score:')[1])): # but len of username not same\n",
    "        lines[idx] = entry_log(line, score)\n",
    "        print(cur_username, end='\\n') # prev\n",
    "        print(idx + 1, line) # cur\n",
    "        print('cur score: ', cur_score)\n",
    "        print(lines[idx]) # whats will be updated to this values; next\n",
    "        save_log(lines)\n",
    "        break # save by one; first in the list\n",
    "\n",
    "# save(lines)"
   ]
  },
  {
   "cell_type": "markdown",
   "metadata": {},
   "source": [
    "---"
   ]
  },
  {
   "cell_type": "markdown",
   "metadata": {},
   "source": [
    "# Working"
   ]
  },
  {
   "cell_type": "code",
   "execution_count": 20,
   "metadata": {},
   "outputs": [
    {
     "name": "stdout",
     "output_type": "stream",
     "text": [
      "username: 51tdflsf\n",
      "user: 51tdflsf == exist_user: Oleg\n",
      "user: 51tdflsf == exist_user: shgdg\n",
      "user: 51tdflsf == exist_user: 3h5aesr\n",
      "user: 51tdflsf == exist_user: sdfsdf\n",
      "user: 51tdflsf == exist_user: sdfsdfsdf\n",
      "user: 51tdflsf == exist_user: sdfsdf\n",
      "user: 51tdflsf == exist_user: 5sdflsf\n",
      "user: 51tdflsf == exist_user: 5tdflsf\n",
      "user: 51tdflsf == exist_user: 51tdflsf\n",
      "51tdflsf\n",
      "9 2023/10/08, Name: 51tdflsf, Score: 16\n",
      "\n",
      "cur score:   16\n",
      "\n",
      "2023/10/08, Name: 51tdflsf, Score: 19\n",
      "\n",
      "Updated: False\n"
     ]
    }
   ],
   "source": [
    "import tkinter as tk\n",
    "from random import randint\n",
    "from datetime import datetime\n",
    "\n",
    "class DiceGame:\n",
    "    def __init__(self, master):\n",
    "        self.master = master\n",
    "        self.master.title(\"Dice Game\")\n",
    "        self.master.geometry(\"400x550\")\n",
    "\n",
    "        # Define pastel color codes\n",
    "        self.pastel_blue = \"#add8e6\"\n",
    "        self.pastel_pink = \"#ffb6c1\"\n",
    "        self.pastel_green = \"#98fb98\"\n",
    "\n",
    "        self.label = tk.Label(self.master, font=(\"Arial\", 100), text=\"🎁\", bg=self.pastel_blue)\n",
    "        self.label.pack(pady=50)\n",
    "\n",
    "\n",
    "        self.name_label = tk.Label(self.master, text=\"Enter Your Name:\", font=(\"Arial\", 14))\n",
    "        self.name_label.pack(pady=5)\n",
    "\n",
    "        self.name_entry = tk.Entry(self.master, font=(\"Arial\", 14), bg=self.pastel_pink)\n",
    "        self.name_entry.pack(pady=20)\n",
    "\n",
    "        self.roll_button = tk.Button(self.master, text=\"Roll Dice\", font=(\"Arial\", 16), command=self.roll_dice, bg=self.pastel_green)\n",
    "        self.roll_button.pack(pady=20)\n",
    "\n",
    "        self.show_scores_button = tk.Button(self.master, text=\"Show Scores\", font=(\"Arial\", 16), command=self.show_scores, bg=self.pastel_pink)\n",
    "        self.show_scores_button.pack(pady=20)\n",
    "\n",
    "\n",
    "        \n",
    "        self.click_count = 0\n",
    "        self.scores = {}  # Dictionary to store username as key and last score as value\n",
    "        self.accumulated_score = 0\n",
    "        self.log_file = open(\"temp.txt\", \"a\")\n",
    "        self.game_over = False\n",
    "        self.log_entry = None\n",
    "        self.player_name = None\n",
    "        self.lines = None\n",
    "        self.updated = False\n",
    "\n",
    "    def roll_dice(self):\n",
    "        if self.click_count >= 5:\n",
    "            self.game_over = True\n",
    "\n",
    "        if not self.game_over:\n",
    "            self.player_name = self.name_entry.get() if self.name_entry.get() else \"Anonymous\"\n",
    "            dice_num = randint(1, 6)\n",
    "            self.accumulated_score += dice_num\n",
    "            self.scores[self.player_name] = self.accumulated_score  # Store only the last score for each username\n",
    "\n",
    "            # self.log_entry = f\"Date: {datetime.now().strftime('%Y/%m/%d')}, Name: {self.player_name}, Score: {self.accumulated_score}\\n\"\n",
    "\n",
    "            dice_image = [\"❶\", \"❷\", \"❸\", \"❹\", \"❺\", \"❻\"][dice_num - 1]\n",
    "            self.label.config(text=dice_image)\n",
    "\n",
    "            self.click_count += 1\n",
    "        else:\n",
    "            # if not username in log.txt:\n",
    "                # self.log_file.write(self.log_entry) # save to file\n",
    "            self.update_score_in_log(username=self.player_name, score=self.accumulated_score)\n",
    "            self.roll_button.config(state=tk.DISABLED)\n",
    "            self.label.config(text='Game Over', font=(\"Arial\", 16))\n",
    "\n",
    "\n",
    "    # def update_score_in_log(self, username, score):\n",
    "    def update_score_in_log(self, username, score):\n",
    "        print(f'username: {username}')\n",
    "        lines = self.open_log()\n",
    "        updated = False\n",
    "\n",
    "        # затычка\n",
    "        users = []\n",
    "        for idx, line in enumerate(lines):\n",
    "            # pattern = r'\\w\\D\\S{3}'\n",
    "            # res = re.findall(pattern, ''.join(line.split('')))\n",
    "            try:\n",
    "                cur_username = line.split(\", \")[1].split(\": \")[1]\n",
    "            except Exception:\n",
    "                cur_username = 'not found username'\n",
    "            try:\n",
    "                cur_score = line.split('Score:')[-1]\n",
    "            except Exception:\n",
    "                cur_score = 'not found score'\n",
    "            print(f'user: {username} == exist_user: {cur_username}')\n",
    "            # print(username == cur_username)\n",
    "            if (username == cur_username) and (score > int(line.split('Score:')[1])): # but len of username not same\n",
    "                users.append(cur_username) # Затычка\n",
    "                lines[idx] = entry_log(line=line, score=score)\n",
    "                print(cur_username, end='\\n') # prev\n",
    "                print(idx + 1, line) # cur\n",
    "                print('cur score: ', cur_score)\n",
    "                print(lines[idx]) # whats will be updated to this values; next\n",
    "                # self.save_log(lines)\n",
    "                break # save by one; first in the list\n",
    "            \n",
    "        # print('users')\n",
    "        if username not in users:\n",
    "            self.updated = True\n",
    "\n",
    "            \n",
    "\n",
    "        print(f'Updated: {self.updated}')\n",
    "        if self.updated:\n",
    "            lines.append(self.entry_log(username=username, score=score))\n",
    "        \n",
    "        self.save_log(lines) # dublicated\n",
    "\n",
    "\n",
    "\n",
    "    def show_scores(self):\n",
    "        scores_window = tk.Toplevel(self.master)\n",
    "        scores_window.title(\"Player Scores\")\n",
    "        scores_text = \"\\n\".join([f\"Name: {name}, Score: {score}\" for name, score in self.scores.items()])\n",
    "        scores_label = tk.Label(scores_window, text=scores_text, font=(\"Arial\", 14))\n",
    "        scores_label.pack(padx=20, pady=20)\n",
    "\n",
    "    # utils to log\n",
    "    def open_log(self):\n",
    "        with open('temp.txt', 'r') as file:\n",
    "            # self.lines = file.readlines()\n",
    "            lines = file.readlines()\n",
    "        \n",
    "        return lines\n",
    "\n",
    "    def entry_log(self, line=None, score=None, username=None):\n",
    "        \"\"\"generate report to row of the log file\"\"\"\n",
    "        if username is not None:\n",
    "            report = ', '.join([datetime.now().strftime('%Y/%m/%d')] + [f\"Name: {username}\"] +  [f\"Score: {score}\"]) + '\\n' # using join easy to auto add comma\n",
    "        else:\n",
    "            report = ', '.join(line.split(\", \")[:-1] + [f'Score: {score}']) + '\\n'\n",
    "        return report\n",
    "\n",
    "    def save_log(self, lines):\n",
    "        with open('temp.txt', 'w') as file:\n",
    "            file.writelines(lines)\n",
    "        # if self.lines is not None:\n",
    "        #     with open('temp.txt', 'w') as file:\n",
    "        #         file.writelines(self.lines)\n",
    "        # else:\n",
    "        #     raise FileExistsError(\"log file doesn't exist.\")\n",
    "\n",
    "\n",
    "    def close_log_file(self):\n",
    "        self.log_file.close()\n",
    "\n",
    "if __name__ == \"__main__\":\n",
    "    root = tk.Tk()\n",
    "    app = DiceGame(root)\n",
    "    root.mainloop()\n",
    "    app.close_log_file()\n"
   ]
  },
  {
   "cell_type": "markdown",
   "metadata": {},
   "source": []
  },
  {
   "cell_type": "code",
   "execution_count": null,
   "metadata": {},
   "outputs": [],
   "source": [
    "# TODO: lines to do global by self.lines = None"
   ]
  },
  {
   "cell_type": "code",
   "execution_count": 2,
   "metadata": {},
   "outputs": [
    {
     "name": "stdout",
     "output_type": "stream",
     "text": [
      "user: 3h5aesr == exist_user: Oleg\n",
      "user: 3h5aesr == exist_user: shgdg\n",
      "user: 3h5aesr == exist_user: 3h5aesr\n",
      "user: 3h5aesr == exist_user: sdfsdf\n",
      "user: 3h5aesr == exist_user: sdfsdfsdf\n",
      "user: 3h5aesr == exist_user: sdfsdf\n",
      "user: 3h5aesr == exist_user: 5sdflsf\n",
      "user: 3h5aesr == exist_user: 5sdflsf\n",
      "user: 3h5aesr == exist_user: 5sdflsf\n",
      "user: 3h5aesr == exist_user: 5sdflsf\n",
      "user: 3h5aesr == exist_user: 5sdflsf\n"
     ]
    }
   ],
   "source": [
    "def backUp_log():\n",
    "    \"\"\"Backup log.txt file n from it return data by lines\"\"\"\n",
    "    with open('log.txt', 'r') as file:\n",
    "        lines = file.readlines()\n",
    "\n",
    "    with open('temp.txt', 'w') as file:\n",
    "        file.writelines(lines)\n",
    "\n",
    "    with open('temp.txt', 'r') as file:\n",
    "        lines = file.readlines()\n",
    "    \n",
    "    return lines\n",
    "\n",
    "def open_log():\n",
    "    with open('temp.txt', 'r') as file:\n",
    "        lines = file.readlines()\n",
    "    \n",
    "    return lines\n",
    "\n",
    "\n",
    "# lines = backUp_log()\n",
    "lines = open_log()\n",
    "\n",
    "def entry_log(line, score):\n",
    "    # return 'Date: ' + line.split('Date:')[0] + 'Name: ' + username + 'Score: ' + score # ver.1 \n",
    "    return ', '.join(line.split(\", \")[:-1] + [f'Score: {score}']) + '\\n'\n",
    "\n",
    "def save_log(lines):\n",
    "    with open('temp.txt', 'w') as file:\n",
    "        file.writelines(lines)\n",
    "\n",
    "username = '3h5aesr'\n",
    "size = int(len(username))\n",
    "score = 251\n",
    "for idx, line in enumerate(lines):\n",
    "    # pattern = r'\\w\\D\\S{3}'\n",
    "    # res = re.findall(pattern, ''.join(line.split('')))\n",
    "    try:\n",
    "        cur_username = line.split(\", \")[1].split(\": \")[1]\n",
    "    except Exception:\n",
    "        cur_username = 'not found username'\n",
    "    try:\n",
    "        cur_score = line.split('Score:')[-1]\n",
    "    except Exception:\n",
    "        cur_score = 'not found score'\n",
    "    print(f'user: {username} == exist_user: {cur_username}')\n",
    "    if (username == cur_username) and (score > int(line.split('Score:')[1])): # but len of username not same\n",
    "        lines[idx] = entry_log(line, score)\n",
    "        print(cur_username, end='\\n') # prev\n",
    "        print(idx + 1, line) # cur\n",
    "        print('cur score: ', cur_score)\n",
    "        print(lines[idx]) # whats will be updated to this values; next\n",
    "        save_log(lines)\n",
    "        break # save by one; first in the list\n",
    "\n",
    "# save(lines)"
   ]
  },
  {
   "cell_type": "markdown",
   "metadata": {},
   "source": [
    "---"
   ]
  },
  {
   "cell_type": "markdown",
   "metadata": {},
   "source": [
    "# Working "
   ]
  },
  {
   "cell_type": "code",
   "execution_count": 53,
   "metadata": {},
   "outputs": [],
   "source": [
    "import tkinter as tk\n",
    "from random import randint\n",
    "from datetime import datetime\n",
    "\n",
    "class DiceGame:\n",
    "    def __init__(self, master):\n",
    "        self.master = master\n",
    "        self.master.title(\"Dice Game\")\n",
    "        self.master.geometry(\"400x550\")\n",
    "\n",
    "        # Define pastel color codes\n",
    "        self.pastel_blue = \"#add8e6\"\n",
    "        self.pastel_pink = \"#ffb6c1\"\n",
    "        self.pastel_green = \"#98fb98\"\n",
    "\n",
    "        # build t gui\n",
    "        self.label = tk.Label(self.master, font=(\"Arial\", 100), text=\"🎁\", bg=self.pastel_blue)\n",
    "        self.label.pack(pady=50)\n",
    "\n",
    "\n",
    "        self.name_label = tk.Label(self.master, text=\"Enter Your Name:\", font=(\"Arial\", 14))\n",
    "        self.name_label.pack(pady=5)\n",
    "\n",
    "        self.name_entry = tk.Entry(self.master, font=(\"Arial\", 14), bg=self.pastel_pink)\n",
    "        self.name_entry.pack(pady=20)\n",
    "\n",
    "        self.roll_button = tk.Button(self.master, text=\"Roll Dice\", font=(\"Arial\", 16), command=self.roll_dice, bg=self.pastel_green)\n",
    "        self.roll_button.pack(pady=20)\n",
    "\n",
    "        self.show_scores_button = tk.Button(self.master, text=\"Show Scores\", font=(\"Arial\", 16), command=self.show_scores, bg=self.pastel_pink)\n",
    "        self.show_scores_button.pack(pady=20)\n",
    "\n",
    "\n",
    "        # like a global\n",
    "        self.click_count = 0\n",
    "        self.accumulated_score = 0\n",
    "        self.game_over = False\n",
    "        self.player_name = None\n",
    "        self.lines = []\n",
    "        self.updated = False\n",
    "        self.users = []\n",
    "\n",
    "    def roll_dice(self):\n",
    "        if self.click_count >= 5:\n",
    "            self.game_over = True\n",
    "\n",
    "        if not self.game_over:\n",
    "            \"\"\"logic of gameplay\n",
    "                each click on  the button run this func\n",
    "\n",
    "            \"\"\"\n",
    "            self.player_name = self.name_entry.get() if self.name_entry.get() else \"Anonymous\" # TODO:  can be changed each click; or stop disable after first click\n",
    "            # if self.player_name:\n",
    "                # self.name_entry.unbind(sequence=False) # update config canvas\n",
    "            dice_num = randint(1, 6)\n",
    "            self.accumulated_score += dice_num\n",
    "\n",
    "\n",
    "            dice_image = [\"❶\", \"❷\", \"❸\", \"❹\", \"❺\", \"❻\"][dice_num - 1]\n",
    "            self.label.config(text=dice_image)\n",
    "\n",
    "            self.click_count += 1\n",
    "        else:\n",
    "            self.update_score_in_log(username=self.player_name, score=self.accumulated_score)\n",
    "            self.roll_button.config(state=tk.DISABLED)\n",
    "            self.label.config(text='Game Over', font=(\"Arial\", 16))\n",
    "\n",
    "\n",
    "    # def update_score_in_log(self, username, score):\n",
    "    def update_score_in_log(self, username, score):\n",
    "        self.open_log()\n",
    "\n",
    "        # users = [] # затычка\n",
    "        for idx, line in enumerate(self.lines):\n",
    "            try:\n",
    "                cur_username = line.split(\", \")[1].split(\": \")[1]\n",
    "            except Exception:\n",
    "                cur_username = 'not found username'\n",
    "            try:\n",
    "                cur_score = line.split('Score:')[-1]\n",
    "            except Exception:\n",
    "                cur_score = 'not found score'\n",
    "            self.users.append(cur_username) # Затычка\n",
    "            if (username == cur_username) and (score > int(line.split('Score:')[1])):\n",
    "                self.lines[idx] = self.entry_log(line=line, score=score)\n",
    "                break\n",
    "\n",
    "        if username not in self.users:\n",
    "            self.updated = True\n",
    "\n",
    "        if self.updated:\n",
    "            self.lines.append(self.entry_log(username=username, score=score))\n",
    "        \n",
    "        self.save_log()\n",
    "\n",
    "\n",
    "    def show_scores(self):\n",
    "        scores_window = tk.Toplevel(self.master)\n",
    "        scores_window.title(\"Player Scores\")\n",
    "        scores_text = \"\\n\".join([f\"Name: {self.player_name}, Score: {self.accumulated_score}\"])\n",
    "        scores_label = tk.Label(scores_window, text=scores_text, font=(\"Arial\", 14))\n",
    "        scores_label.pack(padx=20, pady=20)\n",
    "\n",
    "    # utils to log\n",
    "    def open_log(self):\n",
    "        with open('temp.txt', 'r') as file:\n",
    "            self.lines = file.readlines()\n",
    "        \n",
    "    def entry_log(self, line=None, score=None, username=None):\n",
    "        \"\"\"generate report to row of the log file\"\"\"\n",
    "        if username is not None:\n",
    "            report = ', '.join([datetime.now().strftime('%Y/%m/%d')] + [f\"Name: {username}\"] +  [f\"Score: {score}\"]) + '\\n' # using join easy to auto add comma\n",
    "        else:\n",
    "            report = ', '.join(line.split(\", \")[:-1] + [f'Score: {score}']) + '\\n'\n",
    "        return report\n",
    "\n",
    "    def save_log(self):\n",
    "        if self.lines is not None:\n",
    "            with open('temp.txt', 'w') as file:\n",
    "                file.writelines(self.lines)\n",
    "        else:\n",
    "            raise FileExistsError(\"log file doesn't exist.\")\n",
    "\n",
    "\n",
    "if __name__ == \"__main__\":\n",
    "    root = tk.Tk()\n",
    "    app = DiceGame(root)\n",
    "    root.mainloop()\n"
   ]
  },
  {
   "cell_type": "code",
   "execution_count": null,
   "metadata": {},
   "outputs": [],
   "source": [
    "# TODO: add self.lines n save by one n check again\n",
    "# TODO 2: add validation to entry username\n",
    "# TODO 3: add reset button\n",
    "\"\"\"\n",
    "def validate_username_entry(self, username):\n",
    "    if username is valid:\n",
    "        self.username_is_valid = True # default False\n",
    "\"\"\""
   ]
  },
  {
   "cell_type": "code",
   "execution_count": null,
   "metadata": {},
   "outputs": [],
   "source": [
    "# тезисно: with self.init вернулись dubcicated username entry rows"
   ]
  },
  {
   "cell_type": "code",
   "execution_count": null,
   "metadata": {},
   "outputs": [],
   "source": [
    "# first time  add test to check added entry rows\n",
    "\n",
    "# if has username n score > than below  score is cur, 5, 151\n",
    "# if has username n score < than below\n",
    "# if hasnt username n score < than below\n",
    "# if hasnt username n score > than below\n",
    "\n"
   ]
  },
  {
   "cell_type": "code",
   "execution_count": null,
   "metadata": {},
   "outputs": [],
   "source": []
  },
  {
   "cell_type": "code",
   "execution_count": null,
   "metadata": {},
   "outputs": [],
   "source": []
  },
  {
   "cell_type": "code",
   "execution_count": null,
   "metadata": {},
   "outputs": [],
   "source": []
  },
  {
   "cell_type": "code",
   "execution_count": null,
   "metadata": {},
   "outputs": [],
   "source": []
  },
  {
   "cell_type": "code",
   "execution_count": null,
   "metadata": {},
   "outputs": [],
   "source": []
  }
 ],
 "metadata": {
  "kernelspec": {
   "display_name": "venv",
   "language": "python",
   "name": "python3"
  },
  "language_info": {
   "codemirror_mode": {
    "name": "ipython",
    "version": 3
   },
   "file_extension": ".py",
   "mimetype": "text/x-python",
   "name": "python",
   "nbconvert_exporter": "python",
   "pygments_lexer": "ipython3",
   "version": "3.10.4"
  },
  "orig_nbformat": 4
 },
 "nbformat": 4,
 "nbformat_minor": 2
}
