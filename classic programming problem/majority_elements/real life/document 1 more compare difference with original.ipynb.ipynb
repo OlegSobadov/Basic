{
 "cells": [
  {
   "cell_type": "code",
   "execution_count": null,
   "metadata": {},
   "outputs": [],
   "source": []
  },
  {
   "cell_type": "code",
   "execution_count": 1,
   "metadata": {},
   "outputs": [],
   "source": [
    "import glob, os\n",
    "from colorama import Fore, Style, init\n"
   ]
  },
  {
   "cell_type": "markdown",
   "metadata": {},
   "source": [
    "> The project is to compare multiple documents with an original document, identify the number of differences (marked_count), and return the documents along with their IDs when the count exceeds a certain threshold.\n",
    "---"
   ]
  },
  {
   "cell_type": "code",
   "execution_count": 2,
   "metadata": {},
   "outputs": [
    {
     "name": "stdout",
     "output_type": "stream",
     "text": [
      "Current File Being Processed is: data\\document.txt\n",
      "Current File Being Processed is: data\\original.txt\n"
     ]
    },
    {
     "data": {
      "text/plain": [
       "(['Hello, [ClientName].',\n",
       "  'How are you!',\n",
       "  'this is order of [Number] to our deal.',\n",
       "  'Reragd your [EmpName].'],\n",
       " ['Hi, [Oleg].',\n",
       "  'How are you!',\n",
       "  'this is my order of [№1122] to our deal.',\n",
       "  'Reragd your [Distributor-Mike].'])"
      ]
     },
     "execution_count": 2,
     "metadata": {},
     "output_type": "execute_result"
    }
   ],
   "source": [
    "# first step we're need to see all not same lines\n",
    "# 1 step - identified the lines that are not the same between the original and document to compare.\n",
    "def parse_documents():\n",
    "    for infile in glob.glob(os.path.join( 'data/*.txt')):\n",
    "        print(\"Current File Being Processed is: \" + infile)\n",
    "        with open(infile, encoding='utf-8') as f:\n",
    "            lines = [line.strip() for line in f.readlines()]\n",
    "            lines = [line for line in lines if line]\n",
    "            yield lines\n",
    "\n",
    "doc_to_compare, original = [*parse_documents()]\n",
    "original, doc_to_compare"
   ]
  },
  {
   "cell_type": "code",
   "execution_count": 3,
   "metadata": {},
   "outputs": [
    {
     "name": "stdout",
     "output_type": "stream",
     "text": [
      "Current File Being Processed is: data\\document.txt\n",
      "Current File Being Processed is: data\\original.txt\n",
      "Hello, [ClientName]. \u001b[32mHi,\u001b[0m \u001b[32m[Oleg].\u001b[0m\n",
      "this is order of [Number] to our deal. \u001b[37mthis \u001b[37mis \u001b[32mmy\u001b[0m \u001b[32morder\u001b[0m \u001b[32mof\u001b[0m \u001b[32m[№1122]\u001b[0m \u001b[32mto\u001b[0m \u001b[32mour\u001b[0m\n",
      "Reragd your [EmpName]. \u001b[37mReragd \u001b[37myour \u001b[32m[Distributor-Mike].\u001b[0m\n"
     ]
    }
   ],
   "source": [
    "# second step need to compare each line n mark using color green to\n",
    "# 2 step - mark the differences between the original n other documents lines using color (e.g. green)\n",
    "def color_diff(original_line, compared_line):\n",
    "    original_words = original_line.split()\n",
    "    compared_words = compared_line.split()\n",
    "\n",
    "    for o, c in zip(original_words, compared_words):\n",
    "        if o == c:\n",
    "            yield f'{Fore.WHITE}{c}'\n",
    "        else:\n",
    "            yield f'{Fore.GREEN}{c}{Style.RESET_ALL}'\n",
    "\n",
    "\n",
    "\n",
    "doc_to_compare, original = [*parse_documents()]\n",
    "original, doc_to_compare\n",
    "for line, line2 in zip(original, doc_to_compare):\n",
    "    if line != line2:\n",
    "        colored_diff = ' '.join(color_diff(line, line2))\n",
    "        print(line, colored_diff)"
   ]
  },
  {
   "cell_type": "code",
   "execution_count": 9,
   "metadata": {},
   "outputs": [
    {
     "name": "stdout",
     "output_type": "stream",
     "text": [
      "Current File Being Processed is: data\\document.txt\n",
      "Current File Being Processed is: data\\original.txt\n",
      "Hello, [ClientName]. \u001b[32mHi,\u001b[0m \u001b[37m[Oleg].\n",
      "this is order of [Number] to our deal. \u001b[37mthis \u001b[37mis \u001b[32mmy\u001b[0m \u001b[32morder\u001b[0m \u001b[32mof\u001b[0m \u001b[37m[№1122] \u001b[32mto\u001b[0m \u001b[32mour\u001b[0m\n",
      "Reragd your [EmpName]. \u001b[37mReragd \u001b[37myour \u001b[37m[Distributor-Mike].\n"
     ]
    },
    {
     "data": {
      "text/plain": [
       "6"
      ]
     },
     "execution_count": 9,
     "metadata": {},
     "output_type": "execute_result"
    }
   ],
   "source": [
    "\n",
    "# 3 step need to skip not colored_diff if word in the compared_line framed to [word]\n",
    "# 3 step - skip applying color to words framed within square bracketes [word] in the compared line\n",
    "marked_count = 0\n",
    "def color_diff(original_line, compared_line):\n",
    "    global marked_count\n",
    "    original_words = original_line.split()\n",
    "    compared_words = compared_line.split()\n",
    "\n",
    "\n",
    "    for o, c in zip(original_words, compared_words):\n",
    "        if o == c:\n",
    "            yield f'{Fore.WHITE}{c}'\n",
    "        else:\n",
    "            if c.startswith(\"[\") or c.startswith(\"]\"):\n",
    "                yield f'{Fore.WHITE}{c}'\n",
    "            else:\n",
    "                marked_count += 1\n",
    "                yield f'{Fore.GREEN}{c}{Style.RESET_ALL}'\n",
    "\n",
    "    return marked_count\n",
    "\n",
    "\n",
    "doc_to_compare, original = [*parse_documents()]\n",
    "original, doc_to_compare\n",
    "for line, line2 in zip(original, doc_to_compare):\n",
    "    if line != line2:\n",
    "        colored_diff = ' '.join(color_diff(line, line2))\n",
    "        print(line, colored_diff)\n",
    "\n",
    "marked_count\n"
   ]
  },
  {
   "cell_type": "code",
   "execution_count": 10,
   "metadata": {},
   "outputs": [
    {
     "name": "stdout",
     "output_type": "stream",
     "text": [
      "Current File Being Processed is: data\\document.txt\n",
      "Current File Being Processed is: data\\original.txt\n",
      "Hello, [ClientName]. \u001b[32mHi,\u001b[0m \u001b[37m[Oleg].\n",
      "this is order of [Number] to our deal. \u001b[37mthis \u001b[37mis \u001b[32mmy\u001b[0m \u001b[32morder\u001b[0m \u001b[32mof\u001b[0m \u001b[37m[№1122] \u001b[32mto\u001b[0m \u001b[32mour\u001b[0m\n",
      "Reragd your [EmpName]. \u001b[37mReragd \u001b[37myour \u001b[37m[Distributor-Mike].\n"
     ]
    },
    {
     "data": {
      "text/plain": [
       "3"
      ]
     },
     "execution_count": 10,
     "metadata": {},
     "output_type": "execute_result"
    }
   ],
   "source": [
    "\n",
    "# 4 step need to count how much words was marked to Green color\n",
    "# 4 step - to count how  many words were marked in green color.\n",
    "# 5 step need to count only at write color till green not each colored word only colored sentence with green till not change color to white\n",
    "# 5 step - to count only continuous sequences of green-colored words until a change to white occurs.\n",
    "\n",
    "marked_count = 0\n",
    "def color_diff(original_line, compared_line):\n",
    "    global marked_count\n",
    "    original_words = original_line.split()\n",
    "    compared_words = compared_line.split()\n",
    "    in_green_sequence = False\n",
    "\n",
    "    for o, c in zip(original_words, compared_words):\n",
    "        if o == c:\n",
    "            in_green_sequence = False\n",
    "            yield f'{Fore.WHITE}{c}'\n",
    "        else:\n",
    "            if c.startswith(\"[\") or c.startswith(\"]\"):\n",
    "                in_green_sequence = False\n",
    "                yield f'{Fore.WHITE}{c}'\n",
    "            else:\n",
    "                if not in_green_sequence:\n",
    "                    in_green_sequence = True\n",
    "                    marked_count += 1\n",
    "                yield f'{Fore.GREEN}{c}{Style.RESET_ALL}'\n",
    "\n",
    "    return marked_count\n",
    "\n",
    "\n",
    "doc_to_compare, original = [*parse_documents()]\n",
    "original, doc_to_compare\n",
    "for line, line2 in zip(original, doc_to_compare):\n",
    "    if line != line2:\n",
    "        colored_diff = ' '.join(color_diff(line, line2))\n",
    "        print(line, colored_diff)\n",
    "\n",
    "marked_count\n"
   ]
  },
  {
   "cell_type": "code",
   "execution_count": null,
   "metadata": {},
   "outputs": [],
   "source": [
    "# not just if marked_count > 3: \n",
    "    ...\n",
    "    # we're got majority document"
   ]
  },
  {
   "cell_type": "code",
   "execution_count": null,
   "metadata": {},
   "outputs": [],
   "source": [
    "import glob\n",
    "import os\n",
    "from colorama import Fore, Style\n",
    "\n",
    "def parse_documents_lazy():\n",
    "    for infile in glob.glob(os.path.join('data/*.txt')):\n",
    "        print(\"Current File Being Processed is: \" + infile)\n",
    "        with open(infile, encoding='utf-8') as f:\n",
    "            for line in f:\n",
    "                if line.strip():  # Skip empty lines\n",
    "                    yield line.strip(), infile  # Return both line and document ID\n",
    "\n",
    "marked_count_threshold = 3 # TODO: modified to find_majority(): formula return coefficient of mistakes \n",
    "documents_with_errors = []\n",
    "\n",
    "def color_diff_lazy(original_line, compared_line):\n",
    "    global marked_count\n",
    "    original_words = original_line.split()\n",
    "    compared_words = compared_line.split()\n",
    "    in_green_sequence = False\n",
    "\n",
    "    for o, c in zip(original_words, compared_words):\n",
    "        if o == c:\n",
    "            in_green_sequence = False\n",
    "            yield f'{Fore.WHITE}{c}'\n",
    "        else:\n",
    "            if c.startswith(\"[\") or c.startswith(\"]\"):\n",
    "                in_green_sequence = False\n",
    "                yield f'{Fore.WHITE}{c}'\n",
    "            else:\n",
    "                if not in_green_sequence:\n",
    "                    in_green_sequence = True\n",
    "                    marked_count += 1\n",
    "                yield f'{Fore.GREEN}{c}{Style.RESET_ALL}'\n",
    "\n",
    "    return marked_count\n",
    "\n",
    "doc_to_compare_generator = parse_documents_lazy()\n",
    "original_generator = parse_documents_lazy()\n",
    "\n",
    "for line, (line2, doc_id) in zip(original_generator, doc_to_compare_generator):\n",
    "    marked_count = 0  # Reset marked_count for each document comparison\n",
    "    if line != line2:\n",
    "        colored_diff = ' '.join(color_diff_lazy(line, line2))\n",
    "        print(line, colored_diff)\n",
    "        if marked_count > marked_count_threshold:\n",
    "            documents_with_errors.append((doc_id, marked_count))\n",
    "\n",
    "print(f\"\\nDocuments with more than {marked_count_threshold} errors:\")\n",
    "for doc_id, errors in documents_with_errors:\n",
    "    print(f\"Document ID: {doc_id}, Errors: {errors}\")\n"
   ]
  },
  {
   "cell_type": "markdown",
   "metadata": {},
   "source": [
    "---"
   ]
  },
  {
   "cell_type": "markdown",
   "metadata": {},
   "source": [
    "<img src=\"img/compareDocuments.png\">"
   ]
  },
  {
   "cell_type": "code",
   "execution_count": null,
   "metadata": {},
   "outputs": [],
   "source": [
    "# n step - \n",
    "# other libraries to compare diff documents with etalon\n",
    "import difflib\n",
    "\n",
    "def compare_documents(etalon, documents):\n",
    "    similarity_scores = []\n",
    "\n",
    "    for doc in documents:\n",
    "        seq_matcher = difflib.SequenceMatcher(None, etalon, doc)\n",
    "        similarity_scores.append(seq_matcher.ratio())\n",
    "\n",
    "    return similarity_scores\n",
    "\n",
    "etalon_document = \"The etalon document content.\"\n",
    "other_documents = [\n",
    "    \"Similar content in document one.\",\n",
    "    \"Different content in document two.\",\n",
    "    \"Content in document three that matches the etalon.\",\n",
    "]\n",
    "\n",
    "# Compare documents and get similarity scores\n",
    "similarity_scores = compare_documents(etalon_document, other_documents)\n",
    "\n",
    "# Identify the document with the highest similarity (majority)\n",
    "max_similarity_score = max(similarity_scores)\n",
    "index_of_majority = similarity_scores.index(max_similarity_score)\n",
    "majority_document = other_documents[index_of_majority]\n",
    "\n",
    "print(f\"The document with the majority of content similar to the etalon is:\\n{majority_document}\")\n"
   ]
  },
  {
   "cell_type": "code",
   "execution_count": null,
   "metadata": {},
   "outputs": [],
   "source": []
  },
  {
   "cell_type": "code",
   "execution_count": null,
   "metadata": {},
   "outputs": [],
   "source": []
  }
 ],
 "metadata": {
  "kernelspec": {
   "display_name": "venv_tk",
   "language": "python",
   "name": "python3"
  },
  "language_info": {
   "codemirror_mode": {
    "name": "ipython",
    "version": 3
   },
   "file_extension": ".py",
   "mimetype": "text/x-python",
   "name": "python",
   "nbconvert_exporter": "python",
   "pygments_lexer": "ipython3",
   "version": "3.10.4"
  }
 },
 "nbformat": 4,
 "nbformat_minor": 2
}
