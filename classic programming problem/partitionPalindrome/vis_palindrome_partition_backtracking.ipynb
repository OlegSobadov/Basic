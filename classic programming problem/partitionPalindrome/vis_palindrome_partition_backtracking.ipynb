{
 "cells": [
  {
   "cell_type": "code",
   "execution_count": null,
   "metadata": {},
   "outputs": [],
   "source": []
  },
  {
   "cell_type": "code",
   "execution_count": null,
   "metadata": {},
   "outputs": [],
   "source": []
  },
  {
   "cell_type": "code",
   "execution_count": 1,
   "metadata": {},
   "outputs": [
    {
     "data": {
      "text/plain": [
       "['aa', 'b', 'e', 'gg', 'mim', 'i', 'd', 'o']"
      ]
     },
     "execution_count": 1,
     "metadata": {},
     "output_type": "execute_result"
    }
   ],
   "source": [
    "word = s = 'aabeggmimido'\n",
    "\n",
    "def is_palindrome(sub):\n",
    "    return False if sub != sub[::-1] else True\n",
    "\n",
    "result = []\n",
    "def backtrack(start, path):\n",
    "    global result\n",
    "    if start == len(word):\n",
    "        result.append(path)\n",
    "        return\n",
    "    for end in range(start +1, len(word) + 1):\n",
    "        if is_palindrome(s[start:end]):\n",
    "            backtrack(end, path + [s[start:end]])\n",
    "\n",
    "backtrack(0, [])\n",
    "result[-1]"
   ]
  },
  {
   "cell_type": "code",
   "execution_count": null,
   "metadata": {},
   "outputs": [],
   "source": [
    "# тезисно: разбивка на составные части"
   ]
  },
  {
   "cell_type": "code",
   "execution_count": null,
   "metadata": {},
   "outputs": [],
   "source": [
    "# recursion, how to separate to palindrome \n",
    "# to not see all steps of recursive use dfs"
   ]
  },
  {
   "cell_type": "code",
   "execution_count": 2,
   "metadata": {},
   "outputs": [],
   "source": [
    "# 1 step - visual to bool\n",
    "import tkinter as tk\n",
    "import numpy as np\n",
    "\n",
    "def is_palindrome_substring(s, start, end):\n",
    "    return s[start:end + 1] == s[start:end + 1][::-1]\n",
    "\n",
    "def visualize_palindrome_partitioning(s):\n",
    "    n = len(s)\n",
    "\n",
    "    # Create the main window\n",
    "    root = tk.Tk()\n",
    "    root.title(\"Palindrome Partitioning Visualization\")\n",
    "\n",
    "    # Create Canvas for visualization\n",
    "    canvas = tk.Canvas(root, width=500, height=300)\n",
    "    canvas.pack()\n",
    "\n",
    "    # Function to update the canvas\n",
    "    def update_canvas():\n",
    "        canvas.delete(\"all\")\n",
    "\n",
    "        # Draw the input string\n",
    "        canvas.create_text(250, 50, text=s, font=('Arial', 14), anchor='center')\n",
    "\n",
    "        # Draw the table\n",
    "        cell_size = 30\n",
    "        for i in range(n):\n",
    "            for j in range(n):\n",
    "                color = 'green' if is_palindrome[i][j] else 'white'\n",
    "                canvas.create_rectangle(j * cell_size, i * cell_size + 80,\n",
    "                                        (j + 1) * cell_size, (i + 1) * cell_size + 80,\n",
    "                                        fill=color, outline='black')\n",
    "                canvas.create_text((j + 0.5) * cell_size, (i + 0.5) * cell_size + 80,\n",
    "                                   text=str(is_palindrome[i][j]), font=('Arial', 10), anchor='center')\n",
    "\n",
    "        root.update()\n",
    "        root.after(500)  # Pause for visualization (you can adjust the duration)\n",
    "\n",
    "    # Initialize the palindrome table\n",
    "    is_palindrome = np.zeros((n, n), dtype=bool)\n",
    "\n",
    "    # Dynamic Programming to fill the table\n",
    "    for length in range(1, n + 1):\n",
    "        for start in range(n - length + 1):\n",
    "            end = start + length - 1\n",
    "            is_palindrome[start][end] = is_palindrome_substring(s, start, end)\n",
    "            update_canvas()\n",
    "\n",
    "    root.mainloop()\n",
    "\n",
    "# Example usage:\n",
    "string_example = \"aabmimi\"\n",
    "visualize_palindrome_partitioning(string_example)\n"
   ]
  },
  {
   "cell_type": "code",
   "execution_count": null,
   "metadata": {},
   "outputs": [],
   "source": [
    "# тонкости - to update visuzlize in the real life better gui tkinter\n",
    "# cuz has update, tracer, перерисовка\n",
    "\n"
   ]
  },
  {
   "cell_type": "code",
   "execution_count": 4,
   "metadata": {},
   "outputs": [],
   "source": [
    "# 2 step - visualize to words string \n",
    "# visual of backtracking to string\n",
    "import tkinter as tk\n",
    "import numpy as np\n",
    "\n",
    "def is_palindrome_substring(s, start, end):\n",
    "    return s[start:end + 1] == s[start:end + 1][::-1]\n",
    "\n",
    "def visualize_palindrome_partitioning(s):\n",
    "    n = len(s)\n",
    "\n",
    "    # Create the main window\n",
    "    root = tk.Tk()\n",
    "    root.title(\"Palindrome Partitioning Visualization\")\n",
    "\n",
    "    # Create Canvas for visualization\n",
    "    canvas = tk.Canvas(root, width=500, height=300)\n",
    "    canvas.pack()\n",
    "\n",
    "    # Function to update the canvas\n",
    "    def update_canvas():\n",
    "        canvas.delete(\"all\")\n",
    "\n",
    "        # Draw the input string\n",
    "        canvas.create_text(250, 50, text=s, font=('Arial', 14), anchor='center')\n",
    "\n",
    "        # Draw the table\n",
    "        cell_size = 30\n",
    "        for i in range(n):\n",
    "            for j in range(n):\n",
    "                if i == j:\n",
    "                    # Diagonal cells represent individual characters\n",
    "                    color = 'lightblue'\n",
    "                elif is_palindrome[i][j]:\n",
    "                    # Palindromic substrings are marked in green\n",
    "                    color = 'lightgreen'\n",
    "                else:\n",
    "                    # Non-palindromic substrings are marked in white\n",
    "                    color = 'white'\n",
    "\n",
    "                # Draw the cell\n",
    "                canvas.create_rectangle(j * cell_size, i * cell_size + 80,\n",
    "                                        (j + 1) * cell_size, (i + 1) * cell_size + 80,\n",
    "                                        fill=color, outline='black')\n",
    "\n",
    "                # Add text to represent the substring\n",
    "                substring = s[i:j + 1]\n",
    "                canvas.create_text((j + 0.5) * cell_size, (i + 0.5) * cell_size + 80,\n",
    "                                text=substring, font=('Arial', 10), anchor='center')\n",
    "\n",
    "        root.update()\n",
    "        root.after(500)  # Pause for visualization (you can adjust the duration)\n",
    "\n",
    "\n",
    "    # Initialize the palindrome table\n",
    "    is_palindrome = np.zeros((n, n), dtype=bool)\n",
    "\n",
    "    # Dynamic Programming to fill the table\n",
    "    for length in range(1, n + 1):\n",
    "        for start in range(n - length + 1):\n",
    "            end = start + length - 1\n",
    "            is_palindrome[start][end] = is_palindrome_substring(s, start, end)\n",
    "            update_canvas()\n",
    "\n",
    "    root.mainloop()\n",
    "\n",
    "# Example usage:\n",
    "string_example = \"aabmimi\"\n",
    "visualize_palindrome_partitioning(string_example)\n"
   ]
  },
  {
   "cell_type": "code",
   "execution_count": null,
   "metadata": {},
   "outputs": [],
   "source": []
  },
  {
   "cell_type": "code",
   "execution_count": null,
   "metadata": {},
   "outputs": [],
   "source": []
  },
  {
   "cell_type": "code",
   "execution_count": null,
   "metadata": {},
   "outputs": [],
   "source": []
  }
 ],
 "metadata": {
  "kernelspec": {
   "display_name": "venv_tk",
   "language": "python",
   "name": "python3"
  },
  "language_info": {
   "codemirror_mode": {
    "name": "ipython",
    "version": 3
   },
   "file_extension": ".py",
   "mimetype": "text/x-python",
   "name": "python",
   "nbconvert_exporter": "python",
   "pygments_lexer": "ipython3",
   "version": "3.10.4"
  }
 },
 "nbformat": 4,
 "nbformat_minor": 2
}
